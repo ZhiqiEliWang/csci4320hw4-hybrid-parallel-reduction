{
 "cells": [
  {
   "cell_type": "code",
   "execution_count": null,
   "metadata": {},
   "outputs": [],
   "source": [
    "import matplotlib.pyplot as plt\n"
   ]
  },
  {
   "cell_type": "code",
   "execution_count": null,
   "metadata": {},
   "outputs": [],
   "source": [
    "# plotting gpu performance\n",
    "x = [6, 12, 24, 48] # x-axis\n",
    "y1_p2p = [0.000303, 0.001116, 0.012199, 0.038164, 0.389912, 0.773272, 0.709906, 0.664659] # y-axis1\n",
    "y2 = [0.033976, 0.000133, 0.005236, 0.007273, 0.273762, 0.304891, 0.176335, 0.097598] # y-axis2\n",
    "\n",
    "plt.plot(x, y1_p2p, 'r', label='MPI_P2P_Reduce')\n",
    "plt.plot(x, y2, 'b', label='MPI_Reduce')\n",
    "plt.legend(loc='upper left')\n",
    "plt.xlabel('Number of Ranks')\n",
    "plt.ylabel('Runtime (s)')\n",
    "plt.title('MPI_Reduce vs MPI_P2P_Reduce')\n",
    "plt.show()"
   ]
  }
 ],
 "metadata": {
  "language_info": {
   "name": "python"
  },
  "orig_nbformat": 4
 },
 "nbformat": 4,
 "nbformat_minor": 2
}
